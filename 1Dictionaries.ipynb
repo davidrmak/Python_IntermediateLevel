{
 "cells": [
  {
   "cell_type": "markdown",
   "metadata": {},
   "source": [
    "# Dictionaries"
   ]
  },
  {
   "cell_type": "code",
   "execution_count": 15,
   "metadata": {},
   "outputs": [],
   "source": [
    "# dictionaries are like nested lists\n",
    "# lists can contain anything, even variables and other lists\n",
    "# lists only count as one item, so a two dimensional approach can be used\n",
    "\n",
    "# Example: monthly high and low temperatures\n",
    "\n",
    "month_avge = [\n",
    "    ['January',6,2],\n",
    "    ['February',7,3],\n",
    "    ['March',8,5],\n",
    "    ['April',9,7],\n",
    "    ['May',11,8],\n",
    "    ['June',15,10],\n",
    "    ['July',17,12],\n",
    "    ['August',19,14],\n",
    "    ['September',18,12],\n",
    "    ['October',12,3],\n",
    "    ['November',9,2],\n",
    "    ['February',5, 1],\n",
    "    ] \n",
    "\n",
    "# each item of this list is a list, allows for structuring."
   ]
  },
  {
   "cell_type": "code",
   "execution_count": 16,
   "metadata": {},
   "outputs": [
    {
     "name": "stdout",
     "output_type": "stream",
     "text": [
      "6\n",
      "7\n",
      "8\n",
      "9\n",
      "11\n",
      "15\n",
      "17\n",
      "19\n",
      "18\n",
      "12\n",
      "9\n",
      "5\n"
     ]
    }
   ],
   "source": [
    "for temp in range(len(month_avge)):\n",
    "    print(month_avge[temp][1])\n",
    "\n",
    "# here need to access in two dimensions, hence temp and 1, remember temp is incrementing."
   ]
  },
  {
   "cell_type": "code",
   "execution_count": 17,
   "metadata": {},
   "outputs": [
    {
     "name": "stdout",
     "output_type": "stream",
     "text": [
      "Total temp is 136\n",
      "Average temp high is 11.333333333333334\n"
     ]
    }
   ],
   "source": [
    "# Example: find average high for the year\n",
    "\n",
    "avge_year = 0\n",
    "total_temps = 0\n",
    "\n",
    "for temp2 in range(len(month_avge)):\n",
    "    total_temps = total_temps + month_avge[temp2][1] # remember 0 refers to first item\n",
    "    avge_year = total_temps / len(month_avge)\n",
    "\n",
    "print('Total temp is',total_temps)\n",
    "print('Average temp high is',avge_year)\n",
    "\n",
    "# could also have used total_temps += month_avge[temp2][1], is used to create running totals"
   ]
  },
  {
   "cell_type": "code",
   "execution_count": 18,
   "metadata": {},
   "outputs": [
    {
     "name": "stdout",
     "output_type": "stream",
     "text": [
      "Max is 19\n"
     ]
    }
   ],
   "source": [
    "# Example: find the maximum temp for the year\n",
    "\n",
    "max_temp = 0\n",
    "for temp3 in range(len(month_avge)):\n",
    "    if month_avge[temp3][1] > max_temp:\n",
    "        max_temp = month_avge[temp3][1]\n",
    "    else:\n",
    "        pass\n",
    "print('Max is',max_temp)"
   ]
  },
  {
   "cell_type": "code",
   "execution_count": 19,
   "metadata": {},
   "outputs": [
    {
     "name": "stdout",
     "output_type": "stream",
     "text": [
      "Min is 1\n"
     ]
    }
   ],
   "source": [
    "# Example: find the lowest temp for the year\n",
    "\n",
    "min_temp = 99999\n",
    "for temp in range(len(month_avge)):\n",
    "    if month_avge[temp][2] < min_temp:\n",
    "        min_temp = month_avge[temp][2]\n",
    "    else:\n",
    "        pass\n",
    "print('Min is',min_temp)"
   ]
  },
  {
   "cell_type": "code",
   "execution_count": 30,
   "metadata": {},
   "outputs": [],
   "source": [
    "# Example: top scores of computer game\n",
    "\n",
    "gameList = [\n",
    "    ['userID','topScore'],\n",
    "    ['AAAOI',135],\n",
    "    ['BBBOI',87],\n",
    "    ['cccol',188],\n",
    "    ['DDDOI',109]] # make sure brackets match"
   ]
  },
  {
   "cell_type": "code",
   "execution_count": 31,
   "metadata": {},
   "outputs": [
    {
     "name": "stdout",
     "output_type": "stream",
     "text": [
      "Enter your ID:Dave\n",
      "Dave\n",
      "<class 'str'>\n",
      "You are not in the top scores\n",
      "[['userID', 'topScore'], ['AAAOI', 135], ['BBBOI', 87], ['cccol', 188], ['DDDOI', 109], ['Dave', 0]]\n"
     ]
    }
   ],
   "source": [
    "# Example: if user not in top scores, amend to list with score of 0\n",
    "\n",
    "newUserID = input('Enter your ID:')\n",
    "print(newUserID)\n",
    "print(type(newUserID))\n",
    "\n",
    "for temp in range(len(gameList)):\n",
    "    if newUserID == gameList[temp][0]:\n",
    "        print('Your top score is',gameList[temp][1])\n",
    "        \n",
    "    else:\n",
    "        if temp == (len(gameList) -1) and newUserID != gameList[temp][0]:\n",
    "            print('You are not in the top scores')\n",
    "            gameList.append([newUserID,0])\n",
    "        \n",
    "print(gameList)"
   ]
  },
  {
   "cell_type": "code",
   "execution_count": 22,
   "metadata": {},
   "outputs": [
    {
     "data": {
      "text/plain": [
       "False"
      ]
     },
     "execution_count": 22,
     "metadata": {},
     "output_type": "execute_result"
    }
   ],
   "source": [
    "newUserID == gameList[4][0] # generally helpful to have a row below to test components as put together solution"
   ]
  },
  {
   "cell_type": "code",
   "execution_count": null,
   "metadata": {},
   "outputs": [],
   "source": [
    "# Example: telephone directory"
   ]
  },
  {
   "cell_type": "code",
   "execution_count": 28,
   "metadata": {},
   "outputs": [],
   "source": [
    "telDir = [\n",
    "    ['name','ext'],\n",
    "    ['Bob',67]\n",
    "] # before any changes made"
   ]
  },
  {
   "cell_type": "code",
   "execution_count": 40,
   "metadata": {},
   "outputs": [
    {
     "name": "stdout",
     "output_type": "stream",
     "text": [
      "[['name', 'ext'], ['Bob', 67], ['Dave', 99]]\n"
     ]
    }
   ],
   "source": [
    "print(telDir)"
   ]
  },
  {
   "cell_type": "code",
   "execution_count": 39,
   "metadata": {},
   "outputs": [
    {
     "name": "stdout",
     "output_type": "stream",
     "text": [
      "Select desired action: \n",
      " 1. Look up tel no \n",
      " 2. Add new entry \n",
      " 3. Edit a tel no \n",
      " 4. Delete an entry \n",
      " 5. Print directory \n",
      " 6. Quit \n",
      "5\n",
      "[['Bob', 67], ['Dave', 99]]\n"
     ]
    }
   ],
   "source": [
    "action = int(input('Select desired action: \\n 1. Look up tel no \\n 2. Add new entry \\n 3. Edit a tel no \\n 4. Delete an entry \\n 5. Print directory \\n 6. Quit \\n'))\n",
    "\n",
    "if action == 1:\n",
    "    lookUp = str(input('Enter name:'))\n",
    "    for temp in range(len(telDir)):\n",
    "        if lookUp == telDir[temp][0]:\n",
    "            print('The ext for',lookUp,'is:',telDir[temp][1])\n",
    "        \n",
    "if action == 2:\n",
    "    newName = str(input('Enter name:'))\n",
    "    newExt = int(input('Enter ext:'))\n",
    "    telDir.append([newName,newExt])\n",
    "    print('Contact added')\n",
    "    \n",
    "if action == 3:\n",
    "    modifyName = str(input('Enter contact to edit:'))\n",
    "    modifyExt = int(input('Enter new ext:'))\n",
    "    for temp in range(len(telDir)):\n",
    "        if modifyName == telDir[temp][0]:\n",
    "            telDir[temp][1] = modifyExt\n",
    "            print('Ext changed')\n",
    "            \n",
    "if action == 4:\n",
    "    deleteName = str(input('Enter contact to delete:'))\n",
    "    for temp in range(len(telDir)):\n",
    "        if deleteName == telDir[temp][0]:\n",
    "            telDir.remove(telDir[temp])\n",
    "            print('Contact deleted')\n",
    "            \n",
    "if action == 5:\n",
    "    telDir.sort\n",
    "    print(telDir[1:])\n",
    "    \n",
    "if action == 6:\n",
    "    print('Program ended')"
   ]
  }
 ],
 "metadata": {
  "kernelspec": {
   "display_name": "Python 3",
   "language": "python",
   "name": "python3"
  },
  "language_info": {
   "codemirror_mode": {
    "name": "ipython",
    "version": 3
   },
   "file_extension": ".py",
   "mimetype": "text/x-python",
   "name": "python",
   "nbconvert_exporter": "python",
   "pygments_lexer": "ipython3",
   "version": "3.7.4"
  }
 },
 "nbformat": 4,
 "nbformat_minor": 2
}
