{
 "cells": [
  {
   "cell_type": "markdown",
   "metadata": {},
   "source": [
    "# Using Data Files"
   ]
  },
  {
   "cell_type": "code",
   "execution_count": 9,
   "metadata": {},
   "outputs": [
    {
     "name": "stdout",
     "output_type": "stream",
     "text": [
      "<_io.TextIOWrapper name='films.txt' mode='r' encoding='UTF-8'>\n",
      "<class 'str'>\n",
      "001,Ghostbusters,2016,PG,116,Comedy\n",
      "002,The Legend of Tarzan,2016,PG,109,Action\n",
      "003,Jason Bourne,2016,PG,123,Action\n",
      "004,The Nice Guys,2016,R,116,Crime\n",
      "005,The Secret Life of Pets,2016,G,91,Animation\n",
      "006,Star Trek Beyond,2016,PG,120,Action\n",
      "007,Batman v Superman,2016,PG,151,Action\n",
      "008,Finding Dory,2016,G,103,Animation\n",
      "009,Zootopia,2016,G,108,Animation\n",
      "010,The BFG,2016,PG,90,Fantasy\n",
      "011,A Monster Calls,2016,PG,108,Fantasy\n",
      "012,Independence Day: Resurgence,2016,PG,120,Action\n",
      "013,The Green Room,2016,R,94,Crime\n",
      "014,Doctor Strange,2016,PG,130,Fantasy\n",
      "015,The Jungle Book,2016,PG,105,Fantasy\n",
      "016,Alice Through the Looking Glass,2016,PG,118,Fantasy\n",
      "017,Imperium,2016,R,109,Crime\n",
      "018,The Infiltrator,2016,R,127,Crime\n",
      "019,Mad Max: Fury Road,2015,R,120,Action\n",
      "020,Spectre,2015,PG,145,Action\n",
      "021,Jurassic World,2015,PG,100,Action\n",
      "022,The Intern,2015,PG,121,Comedy\n",
      "023,Ted 2,2015,R,121,Comedy\n",
      "024,Trainwreck,2015,R,122,Comedy\n",
      "025,Inside Out,2015,PG,94,Animation\n",
      "026,The Good Dinosaur,2015,G,101,Animation\n",
      "027,Divergent,2014,PG,121,Action\n",
      "028,The Max Runner,2014,PG,115,Action\n",
      "029,Birdman,2014,R,119,Comedy\n",
      "030,Guardians of the Galaxy,2014,PG,121,Fantasy\n",
      "031,The Lego Movie,2014,PG,100,Animation\n",
      "032,Big Hero 6,2014,PG,108,Animation\n",
      "033,The Drop,2014,R,106,Crime\n",
      "\n"
     ]
    }
   ],
   "source": [
    "# Example: linking data on films from external file (in this case 'films.txt')\n",
    "\n",
    "file = open('films.txt','r') # with file function, must put file extension, r means read mode\n",
    "print(file) \n",
    "\n",
    "films = file.read() # file is now in the RAM\n",
    "print(type(films)) # file.read makes it a string\n",
    "\n",
    "# note the file is not a list - e.g. \\ n is printed as new lines. It is all seen as code\n",
    "\n",
    "print(films)"
   ]
  },
  {
   "cell_type": "code",
   "execution_count": 2,
   "metadata": {},
   "outputs": [
    {
     "name": "stdout",
     "output_type": "stream",
     "text": [
      "Help on built-in function split:\n",
      "\n",
      "split(sep=None, maxsplit=-1) method of builtins.str instance\n",
      "    Return a list of the words in the string, using sep as the delimiter string.\n",
      "    \n",
      "    sep\n",
      "      The delimiter according which to split the string.\n",
      "      None (the default value) means split according to any whitespace,\n",
      "      and discard empty strings from the result.\n",
      "    maxsplit\n",
      "      Maximum number of splits to do.\n",
      "      -1 (the default value) means no limit.\n",
      "\n"
     ]
    }
   ],
   "source": [
    "help(films.split) # note the help function relates directly to the name of the loaded file"
   ]
  },
  {
   "cell_type": "code",
   "execution_count": 3,
   "metadata": {},
   "outputs": [
    {
     "name": "stdout",
     "output_type": "stream",
     "text": [
      "['001,Ghostbusters,2016,PG,116,Comedy', '002,The Legend of Tarzan,2016,PG,109,Action', '003,Jason Bourne,2016,PG,123,Action', '004,The Nice Guys,2016,R,116,Crime', '005,The Secret Life of Pets,2016,G,91,Animation', '006,Star Trek Beyond,2016,PG,120,Action', '007,Batman v Superman,2016,PG,151,Action', '008,Finding Dory,2016,G,103,Animation', '009,Zootopia,2016,G,108,Animation', '010,The BFG,2016,PG,90,Fantasy', '011,A Monster Calls,2016,PG,108,Fantasy', '012,Independence Day: Resurgence,2016,PG,120,Action', '013,The Green Room,2016,R,94,Crime', '014,Doctor Strange,2016,PG,130,Fantasy', '015,The Jungle Book,2016,PG,105,Fantasy', '016,Alice Through the Looking Glass,2016,PG,118,Fantasy', '017,Imperium,2016,R,109,Crime', '018,The Infiltrator,2016,R,127,Crime', '019,Mad Max: Fury Road,2015,R,120,Action', '020,Spectre,2015,PG,145,Action', '021,Jurassic World,2015,PG,100,Action', '022,The Intern,2015,PG,121,Comedy', '023,Ted 2,2015,R,121,Comedy', '024,Trainwreck,2015,R,122,Comedy', '025,Inside Out,2015,PG,94,Animation', '026,The Good Dinosaur,2015,G,101,Animation', '027,Divergent,2014,PG,121,Action', '028,The Max Runner,2014,PG,115,Action', '029,Birdman,2014,R,119,Comedy', '030,Guardians of the Galaxy,2014,PG,121,Fantasy', '031,The Lego Movie,2014,PG,100,Animation', '032,Big Hero 6,2014,PG,108,Animation', '033,The Drop,2014,R,106,Crime', '']\n",
      "002,The Legend of Tarzan,2016,PG,109,Action\n"
     ]
    }
   ],
   "source": [
    "films_rows = films.split('\\n')\n",
    "\n",
    "# split function deletes whatever is before and after the character, then appends to a single list\n",
    "# \\n is code for new line\n",
    "\n",
    "print(films_rows)\n",
    "print(films_rows[1])"
   ]
  },
  {
   "cell_type": "code",
   "execution_count": 5,
   "metadata": {},
   "outputs": [
    {
     "name": "stdout",
     "output_type": "stream",
     "text": [
      "Ghostbusters\n",
      "The Legend of Tarzan\n",
      "Jason Bourne\n",
      "The Nice Guys\n",
      "The Secret Life of Pets\n",
      "Star Trek Beyond\n",
      "Batman v Superman\n",
      "Finding Dory\n",
      "Zootopia\n",
      "The BFG\n",
      "A Monster Calls\n",
      "Independence Day: Resurgence\n",
      "The Green Room\n",
      "Doctor Strange\n",
      "The Jungle Book\n",
      "Alice Through the Looking Glass\n",
      "Imperium\n",
      "The Infiltrator\n",
      "Mad Max: Fury Road\n",
      "Spectre\n",
      "Jurassic World\n",
      "The Intern\n",
      "Ted 2\n",
      "Trainwreck\n",
      "Inside Out\n",
      "The Good Dinosaur\n",
      "Divergent\n",
      "The Max Runner\n",
      "Birdman\n",
      "Guardians of the Galaxy\n",
      "The Lego Movie\n",
      "Big Hero 6\n",
      "The Drop\n"
     ]
    }
   ],
   "source": [
    "# Example: manipulating list & printing all movie titles\n",
    "\n",
    "for temp in range(len(films_rows)-1): # -1 due to empty entry at the end\n",
    "    record = films_rows[temp].split(',') # essentially breaking down into individual lists per film\n",
    "    title = record[1] # now each film characteristic can be individually referred to\n",
    "    year = record[2]\n",
    "    rating = record[3]\n",
    "    run_time = record[4]\n",
    "    genre = record[5]\n",
    "    print(title)\n",
    "\n",
    "# the above calculation is efficient for RAM, prints film name\n",
    "# record becomes a list since it has multiple items in it"
   ]
  },
  {
   "cell_type": "code",
   "execution_count": 6,
   "metadata": {},
   "outputs": [
    {
     "name": "stdout",
     "output_type": "stream",
     "text": [
      "106\n"
     ]
    }
   ],
   "source": [
    "print(record[4]) # note if not specified the most recently executed temp calculation will be used (Big Drop)"
   ]
  },
  {
   "cell_type": "code",
   "execution_count": 7,
   "metadata": {},
   "outputs": [
    {
     "name": "stdout",
     "output_type": "stream",
     "text": [
      "Ghostbusters\n",
      "The Legend of Tarzan\n",
      "Jason Bourne\n",
      "Star Trek Beyond\n",
      "Batman v Superman\n",
      "The BFG\n",
      "A Monster Calls\n",
      "Independence Day: Resurgence\n",
      "Doctor Strange\n",
      "The Jungle Book\n",
      "Alice Through the Looking Glass\n",
      "Spectre\n",
      "Jurassic World\n",
      "The Intern\n",
      "Inside Out\n",
      "Divergent\n",
      "The Max Runner\n",
      "Guardians of the Galaxy\n",
      "The Lego Movie\n",
      "Big Hero 6\n"
     ]
    }
   ],
   "source": [
    "# Example: print all movies with PG rating\n",
    "\n",
    "for temp in range(len(films_rows)-1):\n",
    "    record = films_rows[temp].split(',')\n",
    "    rating = record[3]\n",
    "    title = record[1]\n",
    "    if rating == 'PG':\n",
    "        print(title)"
   ]
  },
  {
   "cell_type": "code",
   "execution_count": 8,
   "metadata": {},
   "outputs": [
    {
     "name": "stdout",
     "output_type": "stream",
     "text": [
      "Divergent 2014\n",
      "The Max Runner 2014\n",
      "Birdman 2014\n",
      "Guardians of the Galaxy 2014\n",
      "The Lego Movie 2014\n",
      "Big Hero 6 2014\n",
      "The Drop 2014\n"
     ]
    }
   ],
   "source": [
    "# Example: print all movies pre 2015\n",
    "\n",
    "for temp in range(len(films_rows)-1):\n",
    "    record = films_rows[temp].split(',')\n",
    "    year = record[2]\n",
    "    title = record[1]\n",
    "    if int(year) < 2015:\n",
    "        print(title,year)\n",
    "        \n",
    "# Python superior to Excel when using extremely large datasets"
   ]
  }
 ],
 "metadata": {
  "kernelspec": {
   "display_name": "Python 3",
   "language": "python",
   "name": "python3"
  },
  "language_info": {
   "codemirror_mode": {
    "name": "ipython",
    "version": 3
   },
   "file_extension": ".py",
   "mimetype": "text/x-python",
   "name": "python",
   "nbconvert_exporter": "python",
   "pygments_lexer": "ipython3",
   "version": "3.7.4"
  }
 },
 "nbformat": 4,
 "nbformat_minor": 2
}
